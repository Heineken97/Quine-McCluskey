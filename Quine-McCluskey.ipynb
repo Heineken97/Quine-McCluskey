{
 "cells": [
  {
   "cell_type": "code",
   "execution_count": 2,
   "id": "18272b57",
   "metadata": {},
   "outputs": [
    {
     "name": "stdout",
     "output_type": "stream",
     "text": [
      "Prueba salida de Algoritmo\n"
     ]
    }
   ],
   "source": [
    "print(\"Prueba salida de Algoritmo\")"
   ]
  },
  {
   "cell_type": "markdown",
   "id": "fedaebd7",
   "metadata": {},
   "source": [
    "- [ ] Convertir cada mintérmino por su equivalente binario\n",
    "\n",
    "- [ ] Agrupar minterminos por cantidad de unos\n",
    "\n",
    "- [ ] Comparar minterminos grupo superior con grupo inferior\n",
    "\n",
    "- [ ] Entrada nueva tabla de emparejamientos, repetir el paso 2 y paso 3, hasta no poder emparejar más.\n",
    "\n",
    "- [ ] Elaborar tabla de primos\n",
    "\n",
    "- [ ] Encontrar primos esenciales \n",
    "\n",
    "- [ ] Retirar los implicantes cubiertos\n"
   ]
  },
  {
   "cell_type": "code",
   "execution_count": null,
   "id": "edfc0840",
   "metadata": {},
   "outputs": [],
   "source": []
  }
 ],
 "metadata": {
  "kernelspec": {
   "display_name": "Python 3 (ipykernel)",
   "language": "python",
   "name": "python3"
  },
  "language_info": {
   "codemirror_mode": {
    "name": "ipython",
    "version": 3
   },
   "file_extension": ".py",
   "mimetype": "text/x-python",
   "name": "python",
   "nbconvert_exporter": "python",
   "pygments_lexer": "ipython3",
   "version": "3.9.12"
  }
 },
 "nbformat": 4,
 "nbformat_minor": 5
}
